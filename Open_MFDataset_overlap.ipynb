{
 "cells": [
  {
   "cell_type": "code",
   "execution_count": null,
   "id": "c8b593dc",
   "metadata": {},
   "outputs": [
    {
     "name": "stdout",
     "output_type": "stream",
     "text": [
      "Opening individual URLs...\n"
     ]
    }
   ],
   "source": [
    "from datetime import datetime, timedelta\n",
    "import xarray as xr\n",
    "from xhistogram.xarray import histogram\n",
    "import pandas as pd\n",
    "\n",
    "\n",
    "# We want to make an aggregate of the following set of forecst files, which overlap with 24 hours\n",
    "u = 'https://thredds.met.no/thredds/dodsC/ww3_4km_archive_files/%Y/%m/%d/ww3_4km_%Y%m%dT00Z.nc'\n",
    "\n",
    "def open_mfdataset_overlap(url_base, time_series, timedim='time'):\n",
    "    urls = [t.strftime(u) for t in time_series]\n",
    "    time_step = time_series[1] - time_series[0]\n",
    "    print('Opening individual URLs...')\n",
    "    datasets = [xr.open_dataset(u, chunks='auto').sel({timedim: slice(t, t+time_step-timedelta(seconds=1))})\n",
    "                for u,t in zip(urls, time_series)]\n",
    "    print('Concatenating...')    \n",
    "    ds = xr.concat(datasets, dim=timedim,\n",
    "                   compat='override', combine_attrs='override', join='override', coords='all')\n",
    "    return ds\n",
    "\n",
    "# Making an aggregate for 15 days:\n",
    "ds = open_mfdataset_overlap(u, pd.date_range('2023-01-01', '2023-01-15'))\n",
    "print(ds)\n",
    "\n",
    "# Plotting time series of wind speed at a position\n",
    "ds.isel({'rlon': 100, 'rlat': 100}).ff.plot()"
   ]
  },
  {
   "cell_type": "code",
   "execution_count": null,
   "id": "015ac28c",
   "metadata": {},
   "outputs": [],
   "source": []
  }
 ],
 "metadata": {
  "kernelspec": {
   "display_name": "Python 3 (ipykernel)",
   "language": "python",
   "name": "python3"
  },
  "language_info": {
   "codemirror_mode": {
    "name": "ipython",
    "version": 3
   },
   "file_extension": ".py",
   "mimetype": "text/x-python",
   "name": "python",
   "nbconvert_exporter": "python",
   "pygments_lexer": "ipython3",
   "version": "3.11.0"
  }
 },
 "nbformat": 4,
 "nbformat_minor": 5
}
